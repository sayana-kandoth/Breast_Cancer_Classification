{
 "cells": [
  {
   "cell_type": "code",
   "execution_count": 38,
   "id": "3b406b1a-d4ba-43fa-8f0a-220f80507eed",
   "metadata": {},
   "outputs": [],
   "source": [
    "import os"
   ]
  },
  {
   "cell_type": "code",
   "execution_count": 40,
   "id": "30bd19d4-b31f-4fef-9c49-0a85b2e0bcef",
   "metadata": {},
   "outputs": [],
   "source": [
    "import warnings"
   ]
  },
  {
   "cell_type": "code",
   "execution_count": 42,
   "id": "a04ce16a-d0e7-435d-9c5f-3fea9fcad699",
   "metadata": {},
   "outputs": [],
   "source": [
    "# Suppress joblib warnings\n",
    "warnings.filterwarnings(\"ignore\", category=UserWarning, module=\"joblib\")"
   ]
  },
  {
   "cell_type": "code",
   "execution_count": 1,
   "id": "45899bce-7767-46f4-80f9-6a930c152feb",
   "metadata": {},
   "outputs": [],
   "source": [
    "import numpy as np"
   ]
  },
  {
   "cell_type": "code",
   "execution_count": 3,
   "id": "9eb6e9f2-a6f6-4cd1-a1fd-aeff044cbbf6",
   "metadata": {},
   "outputs": [],
   "source": [
    "import pandas as pd"
   ]
  },
  {
   "cell_type": "code",
   "execution_count": 5,
   "id": "38c97924-9c33-4852-bfb7-8ef95e64b42d",
   "metadata": {},
   "outputs": [],
   "source": [
    "from sklearn.datasets import load_breast_cancer"
   ]
  },
  {
   "cell_type": "code",
   "execution_count": 7,
   "id": "f3fd6dc2-9b56-474e-a716-65f058221022",
   "metadata": {},
   "outputs": [],
   "source": [
    "from sklearn.model_selection import train_test_split, cross_val_score"
   ]
  },
  {
   "cell_type": "code",
   "execution_count": 9,
   "id": "01231b02-8168-496d-9d74-0c5aaea1a735",
   "metadata": {},
   "outputs": [],
   "source": [
    "from sklearn.preprocessing import StandardScaler"
   ]
  },
  {
   "cell_type": "code",
   "execution_count": 11,
   "id": "06814672-bdad-4be5-bd00-eab110d0933a",
   "metadata": {},
   "outputs": [],
   "source": [
    "from sklearn.linear_model import LogisticRegression"
   ]
  },
  {
   "cell_type": "code",
   "execution_count": 13,
   "id": "890757c2-0586-4f3d-96c4-e8bc45e228b8",
   "metadata": {},
   "outputs": [],
   "source": [
    "from sklearn.tree import DecisionTreeClassifier"
   ]
  },
  {
   "cell_type": "code",
   "execution_count": 15,
   "id": "6ffe1a74-4f37-4f40-a655-584928c0e336",
   "metadata": {},
   "outputs": [],
   "source": [
    "from sklearn.ensemble import RandomForestClassifier"
   ]
  },
  {
   "cell_type": "code",
   "execution_count": 17,
   "id": "e0ad3361-816c-4d9a-b029-696e5a719abc",
   "metadata": {},
   "outputs": [],
   "source": [
    "from sklearn.svm import SVC"
   ]
  },
  {
   "cell_type": "code",
   "execution_count": 19,
   "id": "968d43a5-27ce-4b08-88a5-480f72c5452a",
   "metadata": {},
   "outputs": [],
   "source": [
    "from sklearn.neighbors import KNeighborsClassifier"
   ]
  },
  {
   "cell_type": "code",
   "execution_count": 22,
   "id": "01dd51ec-73c8-468d-9487-2cdd7cc616d9",
   "metadata": {},
   "outputs": [],
   "source": [
    "from sklearn.metrics import accuracy_score, precision_score, recall_score, f1_score, classification_report"
   ]
  },
  {
   "cell_type": "code",
   "execution_count": 24,
   "id": "7022b6cf-2b58-42f6-a292-1f68e8771314",
   "metadata": {},
   "outputs": [],
   "source": [
    "import matplotlib.pyplot as plt"
   ]
  },
  {
   "cell_type": "code",
   "execution_count": 26,
   "id": "c8b47a71-1305-4e6b-b4c6-2bbc0c2d231d",
   "metadata": {},
   "outputs": [],
   "source": [
    "# Load the dataset\n",
    "data = load_breast_cancer()\n",
    "X, y = data.data, data.target"
   ]
  },
  {
   "cell_type": "code",
   "execution_count": 28,
   "id": "d451179b-877c-4ac4-b360-187e3c773695",
   "metadata": {},
   "outputs": [],
   "source": [
    "# Check for missing values\n",
    "if np.isnan(X).any():\n",
    "    print(\"Missing values found. Imputing with mean values.\")\n",
    "    from sklearn.impute import SimpleImputer\n",
    "    imputer = SimpleImputer(strategy='mean')\n",
    "    X = imputer.fit_transform(X)\n"
   ]
  },
  {
   "cell_type": "code",
   "execution_count": 30,
   "id": "e5f04584-d983-436c-a3ff-a914e43db3de",
   "metadata": {},
   "outputs": [],
   "source": [
    "# Feature scaling\n",
    "scaler = StandardScaler()\n",
    "X_scaled = scaler.fit_transform(X)"
   ]
  },
  {
   "cell_type": "code",
   "execution_count": 32,
   "id": "705aab8d-9bff-473f-8c28-267624383d41",
   "metadata": {},
   "outputs": [],
   "source": [
    "# Train-test split\n",
    "X_train, X_test, y_train, y_test = train_test_split(X_scaled, y, test_size=0.2, random_state=42)"
   ]
  },
  {
   "cell_type": "code",
   "execution_count": 34,
   "id": "e07b22d9-a70d-46eb-a40d-7cc10e35ba1e",
   "metadata": {},
   "outputs": [],
   "source": [
    "# Initialize classifiers\n",
    "models = {\n",
    "    \"Logistic Regression\": LogisticRegression(random_state=42),\n",
    "    \"Decision Tree\": DecisionTreeClassifier(random_state=42),\n",
    "    \"Random Forest\": RandomForestClassifier(random_state=42, n_estimators=100),\n",
    "    \"SVM\": SVC(random_state=42),\n",
    "    \"k-NN\": KNeighborsClassifier(n_neighbors=5)\n",
    "}\n"
   ]
  },
  {
   "cell_type": "code",
   "execution_count": 44,
   "id": "1e4fcabf-6f50-4b0b-a430-3ed795d6c1a6",
   "metadata": {},
   "outputs": [],
   "source": [
    "# Train and evaluate each model\n",
    "results = {}\n",
    "for name, model in models.items():\n",
    "    model.fit(X_train, y_train)\n",
    "    y_pred = model.predict(X_test)"
   ]
  },
  {
   "cell_type": "code",
   "execution_count": 48,
   "id": "9fbdf86b-c3c3-4dbd-aeb9-e70be1a12f32",
   "metadata": {},
   "outputs": [],
   "source": [
    "# Calculate metrics\n",
    "accuracy = accuracy_score(y_test, y_pred)\n",
    "precision = precision_score(y_test, y_pred)\n",
    "recall = recall_score(y_test, y_pred)\n",
    "f1 = f1_score(y_test, y_pred)\n"
   ]
  },
  {
   "cell_type": "code",
   "execution_count": 52,
   "id": "f9cbed54-c68e-461f-a560-6285f8e887ef",
   "metadata": {},
   "outputs": [],
   "source": [
    " # Store results\n",
    "results[name] = {\n",
    "    \"Accuracy\": accuracy,\n",
    "    \"Precision\": precision,\n",
    "    \"Recall\": recall,\n",
    "    \"F1 Score\": f1\n",
    "}\n"
   ]
  },
  {
   "cell_type": "code",
   "execution_count": 54,
   "id": "2004e23e-43e3-4dd4-8f10-2c64ca5b154c",
   "metadata": {},
   "outputs": [],
   "source": [
    "# Create a DataFrame for comparison\n",
    "results_df = pd.DataFrame(results).T"
   ]
  },
  {
   "cell_type": "code",
   "execution_count": 56,
   "id": "71c53966-79cb-4ffd-9c2c-6c0c10302aa1",
   "metadata": {},
   "outputs": [
    {
     "name": "stdout",
     "output_type": "stream",
     "text": [
      "Performance Comparison:\n",
      "      Accuracy  F1 Score  Precision    Recall\n",
      "k-NN  0.947368  0.957746   0.957746  0.957746\n"
     ]
    }
   ],
   "source": [
    "# Print the performance metrics\n",
    "print(\"Performance Comparison:\")\n",
    "print(results_df)"
   ]
  },
  {
   "cell_type": "code",
   "execution_count": 58,
   "id": "be1921fc-19c3-4e4f-869c-be8339715d35",
   "metadata": {},
   "outputs": [
    {
     "data": {
      "image/png": "[encoded data removed]",
      "text/plain": [
       "<Figure size 1000x600 with 1 Axes>"
      ]
     },
     "metadata": {},
     "output_type": "display_data"
    }
   ],
   "source": [
    "# Visualize the results\n",
    "results_df.plot(kind='bar', figsize=(10, 6))\n",
    "plt.title(\"Model Performance Comparison\")\n",
    "plt.ylabel(\"Score\")\n",
    "plt.xticks(rotation=45)\n",
    "plt.legend(loc=\"lower right\")\n",
    "plt.tight_layout()\n",
    "plt.show()"
   ]
  },
  {
   "cell_type": "code",
   "execution_count": 60,
   "id": "bd7c3801-c62e-47e8-b6ee-84f0a029e922",
   "metadata": {},
   "outputs": [],
   "source": [
    "# Identify the best and worst-performing models\n",
    "best_model = results_df[\"F1 Score\"].idxmax()\n",
    "worst_model = results_df[\"F1 Score\"].idxmin()"
   ]
  },
  {
   "cell_type": "code",
   "execution_count": 62,
   "id": "1a9fc745-b618-4667-9176-a26725cc75b1",
   "metadata": {},
   "outputs": [
    {
     "name": "stdout",
     "output_type": "stream",
     "text": [
      "Best Performing Model: k-NN\n",
      "Worst Performing Model: k-NN\n"
     ]
    }
   ],
   "source": [
    "print(f\"Best Performing Model: {best_model}\")\n",
    "print(f\"Worst Performing Model: {worst_model}\")"
   ]
  },
  {
   "cell_type": "code",
   "execution_count": null,
   "id": "5ca3a0c2-3a3f-4e36-a878-05fd3c10fea3",
   "metadata": {},
   "outputs": [],
   "source": []
  }
 ],
 "metadata": {
  "kernelspec": {
   "display_name": "anaconda-2024.02-py310",
   "language": "python",
   "name": "conda-env-anaconda-2024.02-py310-py"
  },
  "language_info": {
   "codemirror_mode": {
    "name": "ipython",
    "version": 3
   },
   "file_extension": ".py",
   "mimetype": "text/x-python",
   "name": "python",
   "nbconvert_exporter": "python",
   "pygments_lexer": "ipython3",
   "version": "3.10.14"
  }
 },
 "nbformat": 4,
 "nbformat_minor": 5
}
